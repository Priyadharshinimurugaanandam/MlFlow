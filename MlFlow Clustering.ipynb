{
 "cells": [
  {
   "cell_type": "code",
   "execution_count": 1,
   "id": "aa7924cf-28bd-4af7-8287-70e4bd6409b1",
   "metadata": {},
   "outputs": [],
   "source": [
    "import numpy as np\n",
    "import pandas as pd\n",
    "from sklearn.datasets import make_blobs\n",
    "from sklearn.cluster import KMeans, DBSCAN, AgglomerativeClustering\n",
    "from sklearn.metrics import silhouette_score\n",
    "import mlflow\n",
    "import mlflow.sklearn\n",
    "import warnings\n",
    "warnings.filterwarnings(\"ignore\")"
   ]
  },
  {
   "cell_type": "code",
   "execution_count": 3,
   "id": "2d51aeb0-90a1-4f7d-9fdb-d493ebb403b0",
   "metadata": {},
   "outputs": [],
   "source": [
    "X, _ = make_blobs(n_samples=1000, centers=3, n_features=2, random_state=42)"
   ]
  },
  {
   "cell_type": "code",
   "execution_count": 5,
   "id": "d594cda0-a290-46a2-af6f-b860c07071ac",
   "metadata": {},
   "outputs": [],
   "source": [
    "models = [\n",
    "    (\"KMeans (k=3)\", KMeans(n_clusters=3, random_state=42), X),\n",
    "    (\"KMeans (k=4)\", KMeans(n_clusters=4, random_state=42), X),\n",
    "    (\"DBSCAN (eps=0.3)\", DBSCAN(eps=0.3, min_samples=5), X),\n",
    "    (\"Agglomerative (n=4)\", AgglomerativeClustering(n_clusters=4), X)\n",
    "]\n"
   ]
  },
  {
   "cell_type": "code",
   "execution_count": 7,
   "id": "e13aa74b-0c98-414b-a09f-026d5bad99c1",
   "metadata": {},
   "outputs": [],
   "source": [
    "reports = []\n",
    "\n",
    "for model_name, model, X_data in models:\n",
    "    model.fit(X_data)\n",
    "\n",
    "    # Get labels\n",
    "    if hasattr(model, \"predict\"):\n",
    "        labels = model.predict(X_data)\n",
    "    else:\n",
    "        labels = model.labels_\n",
    "\n",
    "    # Compute silhouette score if more than 1 cluster found\n",
    "    if len(set(labels)) > 1:\n",
    "        score = silhouette_score(X_data, labels)\n",
    "    else:\n",
    "        score = -1  # Invalid score for single cluster\n",
    "\n",
    "    reports.append({\n",
    "        \"model_name\": model_name,\n",
    "        \"model\": model,\n",
    "        \"score\": score,\n",
    "        \"labels\": labels\n",
    "    })\n"
   ]
  },
  {
   "cell_type": "code",
   "execution_count": 9,
   "id": "a14e04c6-db38-4295-a425-1bf6fb9a1fbc",
   "metadata": {},
   "outputs": [
    {
     "name": "stderr",
     "output_type": "stream",
     "text": [
      "2025/05/10 14:40:58 INFO mlflow.tracking.fluent: Experiment with name 'Clustering Experiment' does not exist. Creating a new experiment.\n",
      "2025/05/10 14:40:58 WARNING mlflow.utils.git_utils: Failed to import Git (the Git executable is probably not on your PATH), so Git SHA is not available. Error: Failed to initialize: Bad git executable.\n",
      "The git executable must be specified in one of the following ways:\n",
      "    - be included in your $PATH\n",
      "    - be set via $GIT_PYTHON_GIT_EXECUTABLE\n",
      "    - explicitly set via git.refresh(<full-path-to-git-executable>)\n",
      "\n",
      "All git commands will error until this is rectified.\n",
      "\n",
      "This initial message can be silenced or aggravated in the future by setting the\n",
      "$GIT_PYTHON_REFRESH environment variable. Use one of the following values:\n",
      "    - quiet|q|silence|s|silent|none|n|0: for no message or exception\n",
      "    - warn|w|warning|log|l|1: for a warning message (logging level CRITICAL, displayed by default)\n",
      "    - error|e|exception|raise|r|2: for a raised exception\n",
      "\n",
      "Example:\n",
      "    export GIT_PYTHON_REFRESH=quiet\n",
      "\n",
      "2025/05/10 14:41:11 WARNING mlflow.models.model: Model logged without a signature and input example. Please set `input_example` parameter when logging the model to auto infer the model signature.\n"
     ]
    },
    {
     "name": "stdout",
     "output_type": "stream",
     "text": [
      "🏃 View run KMeans (k=3) at: http://localhost:5000/#/experiments/878009883715146363/runs/13c557ecb6e24ac88f6430ded0453585\n",
      "🧪 View experiment at: http://localhost:5000/#/experiments/878009883715146363\n"
     ]
    },
    {
     "name": "stderr",
     "output_type": "stream",
     "text": [
      "2025/05/10 14:41:18 WARNING mlflow.models.model: Model logged without a signature and input example. Please set `input_example` parameter when logging the model to auto infer the model signature.\n"
     ]
    },
    {
     "name": "stdout",
     "output_type": "stream",
     "text": [
      "🏃 View run KMeans (k=4) at: http://localhost:5000/#/experiments/878009883715146363/runs/ab1dd7f4e31d48b5963f5a34b59553e9\n",
      "🧪 View experiment at: http://localhost:5000/#/experiments/878009883715146363\n",
      "🏃 View run DBSCAN (eps=0.3) at: http://localhost:5000/#/experiments/878009883715146363/runs/1a90af3b7bd341b3a76875c1624cc108\n",
      "🧪 View experiment at: http://localhost:5000/#/experiments/878009883715146363\n",
      "🏃 View run Agglomerative (n=4) at: http://localhost:5000/#/experiments/878009883715146363/runs/d4b3be9d23114ab78190a7a7b78a784c\n",
      "🧪 View experiment at: http://localhost:5000/#/experiments/878009883715146363\n"
     ]
    }
   ],
   "source": [
    "mlflow.set_tracking_uri(\"http://localhost:5000\")\n",
    "mlflow.set_experiment(\"Clustering Experiment\")\n",
    "\n",
    "for report in reports:\n",
    "    model_name = report['model_name']\n",
    "    model = report['model']\n",
    "    score = report['score']\n",
    "\n",
    "    with mlflow.start_run(run_name=model_name):\n",
    "        mlflow.log_param(\"model\", model_name)\n",
    "        mlflow.log_metric(\"silhouette_score\", score)\n",
    "\n",
    "        # Log only compatible models\n",
    "        if isinstance(model, KMeans):\n",
    "            mlflow.sklearn.log_model(model, \"model\")\n"
   ]
  },
  {
   "cell_type": "code",
   "execution_count": null,
   "id": "755321d5-9d7a-4c1d-b98a-d0add09dbbae",
   "metadata": {},
   "outputs": [],
   "source": []
  },
  {
   "cell_type": "code",
   "execution_count": null,
   "id": "7bee49c1-738c-4339-a584-dbce4f9e1ae2",
   "metadata": {},
   "outputs": [],
   "source": []
  },
  {
   "cell_type": "code",
   "execution_count": null,
   "id": "c3aad99b-3a73-4941-be55-da69ee71f660",
   "metadata": {},
   "outputs": [],
   "source": []
  },
  {
   "cell_type": "code",
   "execution_count": null,
   "id": "8e7b92ee-2bcd-4fc7-b5b1-c9ec0c7f003a",
   "metadata": {},
   "outputs": [],
   "source": []
  },
  {
   "cell_type": "code",
   "execution_count": null,
   "id": "55021efb-c073-4763-9ce6-ebb2ddf82e09",
   "metadata": {},
   "outputs": [],
   "source": []
  },
  {
   "cell_type": "code",
   "execution_count": null,
   "id": "556ae4e1-ab89-4e1e-b90b-4bc9f88b98d0",
   "metadata": {},
   "outputs": [],
   "source": []
  },
  {
   "cell_type": "code",
   "execution_count": null,
   "id": "6ce43654-cb41-4c69-b0ca-063da0d5102a",
   "metadata": {},
   "outputs": [],
   "source": []
  },
  {
   "cell_type": "code",
   "execution_count": null,
   "id": "4fdb95ad-7592-402c-b994-fb782a6b8c59",
   "metadata": {},
   "outputs": [],
   "source": []
  }
 ],
 "metadata": {
  "kernelspec": {
   "display_name": "Python (Merai)",
   "language": "python",
   "name": "merai"
  },
  "language_info": {
   "codemirror_mode": {
    "name": "ipython",
    "version": 3
   },
   "file_extension": ".py",
   "mimetype": "text/x-python",
   "name": "python",
   "nbconvert_exporter": "python",
   "pygments_lexer": "ipython3",
   "version": "3.13.2"
  }
 },
 "nbformat": 4,
 "nbformat_minor": 5
}
